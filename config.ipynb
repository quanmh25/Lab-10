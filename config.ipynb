{
 "cells": [
  {
   "cell_type": "markdown",
   "id": "d1579efe",
   "metadata": {},
   "source": [
    "## Giải thích chi tiết code Trợ lý giọng nói"
   ]
  },
  {
   "cell_type": "markdown",
   "id": "56c6b0bc",
   "metadata": {},
   "source": [
    "# 1. Import thư viện và thiết lập\n"
   ]
  },
  {
   "cell_type": "code",
   "execution_count": 1,
   "id": "eee6852d",
   "metadata": {},
   "outputs": [],
   "source": [
    "import requests      # Thư viện để gửi HTTP request đến API\n",
    "import pyttsx3      # Thư viện chuyển văn bản thành giọng nói (Text-to-Speech)\n",
    "import pyaudio      # Thư viện để ghi âm từ microphone\n",
    "import vosk         # Thư viện nhận diện giọng nói offline\n",
    "import json         # Thư viện xử lý dữ liệu JSON\n",
    "import os           # Thư viện làm việc với hệ điều hành (kiểm tra file)\n",
    "import sys          # Thư viện hệ thống (thoát chương trình)\n",
    "import threading    # Thư viện đa luồng (không sử dụng trong code này)\n",
    "import queue        # Thư viện hàng đợi (không sử dụng trong code này)\n",
    "from datetime import datetime, timedelta  # Thư viện xử lý ngày tháng"
   ]
  },
  {
   "cell_type": "markdown",
   "id": "870bf5ca",
   "metadata": {},
   "source": [
    "Điều quan trọng cần lưu ý:\n",
    "\n",
    "Vosk cần model riêng (~100MB) phải tải về và giải nén\n",
    "\n",
    "PyAudio có thể khó cài trên một số hệ điều hành\n",
    "\n",
    "Thứ tự import theo chuẩn PEP 8 (standard library trước, third-party sau)\n",
    "\n",
    "Error handling để kiểm tra dependencies có đầy đủ không"
   ]
  },
  {
   "cell_type": "markdown",
   "id": "dea6830e",
   "metadata": {},
   "source": [
    "# 2. Khởi tạo class VoiceAssistant"
   ]
  },
  {
   "cell_type": "markdown",
   "id": "9aabea1e",
   "metadata": {},
   "source": [
    "2.1 Thiết lập Text-to-Speech (TTS)\n",
    "\n",
    "Giải thích: Phần này thiết lập khả năng \"nói\" của trợ lý. Nó tìm giọng nói tiếng Nga trong hệ thống và thiết lập tốc độ nói vừa phải."
   ]
  },
  {
   "cell_type": "code",
   "execution_count": 2,
   "id": "db6ae7da",
   "metadata": {},
   "outputs": [],
   "source": [
    "def __init__(self):\n",
    "    # Khởi tạo engine chuyển văn bản thành giọng nói\n",
    "    self.tts_engine = pyttsx3.init()\n",
    "    \n",
    "    # Thiết lập tốc độ nói (150 từ/phút)\n",
    "    self.tts_engine.setProperty('rate', 150)\n",
    "    \n",
    "    # Lấy danh sách tất cả giọng nói có sẵn trong hệ thống\n",
    "    voices = self.tts_engine.getProperty('voices')\n",
    "    \n",
    "    # Tìm kiếm giọng nói tiếng Nga để sử dụng\n",
    "    for voice in voices:\n",
    "        if 'ru' in voice.id.lower() or 'russian' in voice.name.lower():\n",
    "            self.tts_engine.setProperty('voice', voice.id)\n",
    "            break"
   ]
  },
  {
   "cell_type": "markdown",
   "id": "76e5da2b",
   "metadata": {},
   "source": [
    "2.2 Thiết lập Speech Recognition (Nhận diện giọng nói)\n",
    "\n",
    "Giải thích: Vosk là thư viện nhận diện giọng nói hoạt động offline. Model phải được tải về trước và giải nén vào thư mục dự án."
   ]
  },
  {
   "cell_type": "code",
   "execution_count": 4,
   "id": "e442a13f",
   "metadata": {},
   "outputs": [
    {
     "ename": "NameError",
     "evalue": "name 'self' is not defined",
     "output_type": "error",
     "traceback": [
      "\u001b[31m---------------------------------------------------------------------------\u001b[39m",
      "\u001b[31mNameError\u001b[39m                                 Traceback (most recent call last)",
      "\u001b[36mCell\u001b[39m\u001b[36m \u001b[39m\u001b[32mIn[4]\u001b[39m\u001b[32m, line 2\u001b[39m\n\u001b[32m      1\u001b[39m \u001b[38;5;66;03m# Đường dẫn đến model Vosk tiếng Nga\u001b[39;00m\n\u001b[32m----> \u001b[39m\u001b[32m2\u001b[39m \u001b[38;5;28;43mself\u001b[39;49m.model_path = \u001b[33m\"\u001b[39m\u001b[33mvosk-model-ru-0.42\u001b[39m\u001b[33m\"\u001b[39m\n\u001b[32m      4\u001b[39m \u001b[38;5;66;03m# Kiểm tra xem model có tồn tại không\u001b[39;00m\n\u001b[32m      5\u001b[39m \u001b[38;5;28;01mif\u001b[39;00m \u001b[38;5;129;01mnot\u001b[39;00m os.path.exists(\u001b[38;5;28mself\u001b[39m.model_path):\n",
      "\u001b[31mNameError\u001b[39m: name 'self' is not defined"
     ]
    }
   ],
   "source": [
    "# Đường dẫn đến model Vosk tiếng Nga\n",
    "self.model_path = \"vosk-model-ru-0.42\"\n",
    "\n",
    "# Kiểm tra xem model có tồn tại không\n",
    "if not os.path.exists(self.model_path):\n",
    "    print(f\"Modell Vosk không tìm thấy: {self.model_path}\")\n",
    "    sys.exit(1)  # Thoát chương trình nếu không có model\n",
    "\n",
    "# Khởi tạo model và recognizer\n",
    "self.model = vosk.Model(self.model_path)\n",
    "self.recognizer = vosk.KaldiRecognizer(self.model, 16000)  # 16000 Hz sample rate"
   ]
  },
  {
   "cell_type": "markdown",
   "id": "65b71bbf",
   "metadata": {},
   "source": [
    "2.3 Thiết lập Microphone"
   ]
  },
  {
   "cell_type": "code",
   "execution_count": null,
   "id": "f3b58b0d",
   "metadata": {},
   "outputs": [],
   "source": [
    "# Khởi tạo PyAudio để ghi âm\n",
    "self.audio = pyaudio.PyAudio()\n",
    "self.stream = None  # Stream sẽ được khởi tạo khi cần ghi âm"
   ]
  },
  {
   "cell_type": "markdown",
   "id": "df0be830",
   "metadata": {},
   "source": [
    "2.4 Cấu hình API và cache"
   ]
  },
  {
   "cell_type": "code",
   "execution_count": null,
   "id": "e92b9e45",
   "metadata": {},
   "outputs": [],
   "source": [
    "# URL cơ sở của API ngày lễ\n",
    "self.base_url = \"https://date.nager.at/api/v2/publicholidays\"\n",
    "self.country = \"RU\"  # Mã quốc gia mặc định (Nga)\n",
    "self.year = datetime.now().year  # Năm hiện tại\n",
    "\n",
    "# Dictionary để lưu cache dữ liệu đã tải\n",
    "self.holidays_cache = {}"
   ]
  },
  {
   "cell_type": "markdown",
   "id": "28c23c57",
   "metadata": {},
   "source": [
    "2.5 Mapping lệnh với hàm xử lý"
   ]
  },
  {
   "cell_type": "code",
   "execution_count": null,
   "id": "89c2ae03",
   "metadata": {},
   "outputs": [],
   "source": [
    "# Dictionary ánh xạ tên lệnh với hàm xử lý tương ứng\n",
    "self.commands = {\n",
    "    'перечислить': self.list_holidays,     # Liệt kê tên ngày lễ\n",
    "    'сохранить': self.save_holidays,       # Lưu tên vào file\n",
    "    'даты': self.save_dates,              # Lưu ngày và tên vào file\n",
    "    'ближайший': self.nearest_holiday,     # Tìm ngày lễ gần nhất\n",
    "    'количество': self.count_holidays,     # Đếm số lượng ngày lễ\n",
    "    'страна': self.change_country,         # Đổi quốc gia\n",
    "    'год': self.change_year,              # Đổi năm\n",
    "    'помощь': self.show_help,             # Hiển thị trợ giúp\n",
    "    'выход': self.exit_assistant          # Thoát chương trình\n",
    "}"
   ]
  },
  {
   "cell_type": "markdown",
   "id": "07838533",
   "metadata": {},
   "source": [
    "# 3. Các hàm cơ bản"
   ]
  },
  {
   "cell_type": "markdown",
   "id": "7fbe0eb2",
   "metadata": {},
   "source": [
    "3.1 Hàm nói (speak)\n",
    "\n",
    "Giải thích: Hàm này vừa hiển thị text trên màn hình vừa đọc to bằng giọng nói."
   ]
  },
  {
   "cell_type": "code",
   "execution_count": null,
   "id": "7fb82ed2",
   "metadata": {},
   "outputs": [],
   "source": [
    "def speak(self, text):\n",
    "    \"\"\"Hàm chuyển văn bản thành giọng nói\"\"\"\n",
    "    print(f\"Trợ lý: {text}\")        # In ra màn hình\n",
    "    self.tts_engine.say(text)       # Chuẩn bị đọc\n",
    "    self.tts_engine.runAndWait()    # Đọc và chờ hoàn thành"
   ]
  },
  {
   "cell_type": "markdown",
   "id": "fff96a27",
   "metadata": {},
   "source": [
    "3.2 Hàm nghe (listen)\n",
    "\n",
    "Giải thích: Hàm này ghi âm 5 giây từ microphone, sau đó sử dụng Vosk để chuyển âm thanh thành văn bản."
   ]
  },
  {
   "cell_type": "code",
   "execution_count": 5,
   "id": "c837849c",
   "metadata": {},
   "outputs": [],
   "source": [
    "def listen(self):\n",
    "    \"\"\"Hàm ghi âm và nhận diện giọng nói\"\"\"\n",
    "    try:\n",
    "        # Thiết lập stream ghi âm\n",
    "        self.stream = self.audio.open(\n",
    "            format=pyaudio.paInt16,     # 16-bit audio\n",
    "            channels=1,                 # Mono (1 kênh)\n",
    "            rate=16000,                # 16kHz sampling rate\n",
    "            input=True,                # Input stream (ghi âm)\n",
    "            frames_per_buffer=8000     # Buffer size\n",
    "        )\n",
    "        \n",
    "        print(\"Đang nghe... (nói sau tiếng beep)\")\n",
    "        self.speak(\"Đang nghe\")\n",
    "        \n",
    "        # Ghi âm trong 5 giây\n",
    "        frames = []\n",
    "        for _ in range(0, int(16000 / 8000 * 5)):  # 5 giây\n",
    "            data = self.stream.read(8000)  # Đọc 8000 mẫu\n",
    "            frames.append(data)           # Thêm vào danh sách\n",
    "        \n",
    "        # Ghép tất cả frame thành một audio\n",
    "        audio_data = b''.join(frames)\n",
    "        \n",
    "        # Nhận diện giọng nói\n",
    "        if self.recognizer.AcceptWaveform(audio_data):\n",
    "            result = json.loads(self.recognizer.Result())\n",
    "            return result.get('text', '').lower().strip()\n",
    "        \n",
    "        return \"\"  # Trả về chuỗi rỗng nếu không nhận diện được\n",
    "        \n",
    "    except Exception as e:\n",
    "        print(f\"Lỗi nhận diện giọng nói: {e}\")\n",
    "        return \"\"\n",
    "    finally:\n",
    "        # Đóng stream sau khi sử dụng\n",
    "        if self.stream:\n",
    "            self.stream.stop_stream()\n",
    "            self.stream.close()"
   ]
  },
  {
   "cell_type": "markdown",
   "id": "19827ae1",
   "metadata": {},
   "source": [
    "# 4. Hàm làm việc với API"
   ]
  },
  {
   "cell_type": "markdown",
   "id": "969d74e9",
   "metadata": {},
   "source": [
    "4.1 Lấy dữ liệu ngày lễ\n",
    "\n",
    "Giải thích: Hàm này gọi API để lấy danh sách ngày lễ. Nó sử dụng cache để tránh gọi API nhiều lần cho cùng một dữ liệu."
   ]
  },
  {
   "cell_type": "code",
   "execution_count": null,
   "id": "5a737df4",
   "metadata": {},
   "outputs": [],
   "source": [
    "def get_holidays(self, year=None, country=None):\n",
    "    \"\"\"Lấy danh sách ngày lễ từ API\"\"\"\n",
    "    # Sử dụng giá trị mặc định nếu không được truyền vào\n",
    "    if year is None:\n",
    "        year = self.year\n",
    "    if country is None:\n",
    "        country = self.country\n",
    "        \n",
    "    # Tạo key cho cache\n",
    "    cache_key = f\"{country}_{year}\"\n",
    "    \n",
    "    # Kiểm tra cache trước khi gọi API\n",
    "    if cache_key in self.holidays_cache:\n",
    "        return self.holidays_cache[cache_key]\n",
    "    \n",
    "    try:\n",
    "        # Tạo URL API\n",
    "        url = f\"{self.base_url}/{year}/{country}\"\n",
    "        \n",
    "        # Gửi GET request với timeout 10 giây\n",
    "        response = requests.get(url, timeout=10)\n",
    "        \n",
    "        # Kiểm tra mã trạng thái HTTP\n",
    "        if response.status_code == 200:\n",
    "            holidays = response.json()  # Chuyển JSON thành Python object\n",
    "            \n",
    "            # Lưu vào cache để lần sau không cần gọi API\n",
    "            self.holidays_cache[cache_key] = holidays\n",
    "            return holidays\n",
    "        else:\n",
    "            self.speak(f\"Lỗi API: {response.status_code}\")\n",
    "            return []\n",
    "            \n",
    "    except requests.exceptions.RequestException as e:\n",
    "        print(f\"Lỗi kết nối: {e}\")\n",
    "        self.speak(\"Không thể kết nối tới server\")\n",
    "        return []"
   ]
  },
  {
   "cell_type": "markdown",
   "id": "f02e084d",
   "metadata": {},
   "source": [
    "# 5. Các hàm xử lý lệnh"
   ]
  },
  {
   "cell_type": "markdown",
   "id": "c16cfbc4",
   "metadata": {},
   "source": [
    "5.1 Liệt kê ngày lễ"
   ]
  },
  {
   "cell_type": "code",
   "execution_count": null,
   "id": "f31dda0b",
   "metadata": {},
   "outputs": [],
   "source": [
    "def list_holidays(self):\n",
    "    \"\"\"Hiển thị tên các ngày lễ\"\"\"\n",
    "    holidays = self.get_holidays()  # Lấy dữ liệu\n",
    "    if not holidays:\n",
    "        self.speak(\"Không lấy được danh sách ngày lễ\")\n",
    "        return\n",
    "    \n",
    "    # Trích xuất tên ngày lễ\n",
    "    holiday_names = [holiday['name'] for holiday in holidays]\n",
    "    \n",
    "    # Giới hạn hiển thị 10 ngày lễ đầu tiên\n",
    "    if len(holiday_names) > 10:\n",
    "        self.speak(f\"Tìm thấy {len(holiday_names)} ngày lễ. Liệt kê 10 đầu tiên:\")\n",
    "        holiday_names = holiday_names[:10]\n",
    "    else:\n",
    "        self.speak(f\"Danh sách ngày lễ {self.country} năm {self.year}:\")\n",
    "    \n",
    "    # In ra màn hình\n",
    "    for name in holiday_names:\n",
    "        print(f\"- {name}\")\n",
    "    \n",
    "    # Chỉ đọc tổng số để tiết kiệm thời gian\n",
    "    self.speak(f\"Đã hiển thị danh sách {len(holiday_names)} ngày lễ\")"
   ]
  },
  {
   "cell_type": "markdown",
   "id": "5fef4130",
   "metadata": {},
   "source": [
    "5.2 Lưu tên ngày lễ vào file"
   ]
  },
  {
   "cell_type": "code",
   "execution_count": null,
   "id": "b2603bf2",
   "metadata": {},
   "outputs": [],
   "source": [
    "def save_holidays(self):\n",
    "    \"\"\"Lưu tên ngày lễ vào file text\"\"\"\n",
    "    holidays = self.get_holidays()\n",
    "    if not holidays:\n",
    "        self.speak(\"Không lấy được danh sách ngày lễ\")\n",
    "        return\n",
    "    \n",
    "    # Tạo tên file\n",
    "    filename = f\"holidays_{self.country}_{self.year}.txt\"\n",
    "    \n",
    "    try:\n",
    "        # Mở file để ghi (encoding UTF-8 để hỗ trợ tiếng Nga)\n",
    "        with open(filename, 'w', encoding='utf-8') as f:\n",
    "            for holiday in holidays:\n",
    "                # Ghi từng tên ngày lễ trên một dòng\n",
    "                f.write(f\"{holiday['name']}\\n\")\n",
    "        \n",
    "        self.speak(f\"Đã lưu danh sách vào file {filename}\")\n",
    "        print(f\"File {filename} được tạo thành công\")\n",
    "        \n",
    "    except Exception as e:\n",
    "        print(f\"Lỗi lưu file: {e}\")\n",
    "        self.speak(\"Lỗi khi lưu file\")"
   ]
  },
  {
   "cell_type": "markdown",
   "id": "5032a627",
   "metadata": {},
   "source": [
    "5.3 Lưu ngày và tên vào file"
   ]
  },
  {
   "cell_type": "code",
   "execution_count": null,
   "id": "d6a90399",
   "metadata": {},
   "outputs": [],
   "source": [
    "def save_dates(self):\n",
    "    \"\"\"Lưu cả ngày và tên ngày lễ vào file\"\"\"\n",
    "    holidays = self.get_holidays()\n",
    "    if not holidays:\n",
    "        self.speak(\"Không lấy được danh sách ngày lễ\")\n",
    "        return\n",
    "    \n",
    "    filename = f\"holidays_with_dates_{self.country}_{self.year}.txt\"\n",
    "    \n",
    "    try:\n",
    "        with open(filename, 'w', encoding='utf-8') as f:\n",
    "            for holiday in holidays:\n",
    "                # Ghi theo format: YYYY-MM-DD - Tên ngày lễ\n",
    "                f.write(f\"{holiday['date']} - {holiday['name']}\\n\")\n",
    "        \n",
    "        self.speak(f\"Danh sách với ngày tháng đã lưu vào {filename}\")\n",
    "        print(f\"File {filename} được tạo thành công\")\n",
    "        \n",
    "    except Exception as e:\n",
    "        print(f\"Lỗi lưu file: {e}\")\n",
    "        self.speak(\"Lỗi khi lưu file\")"
   ]
  },
  {
   "cell_type": "markdown",
   "id": "fb504917",
   "metadata": {},
   "source": [
    "5.4 Tìm ngày lễ gần nhất"
   ]
  },
  {
   "cell_type": "code",
   "execution_count": null,
   "id": "f79bb456",
   "metadata": {},
   "outputs": [],
   "source": [
    "def nearest_holiday(self):\n",
    "    \"\"\"Tìm ngày lễ gần nhất với ngày hiện tại\"\"\"\n",
    "    holidays = self.get_holidays()\n",
    "    if not holidays:\n",
    "        self.speak(\"Không lấy được danh sách ngày lễ\")\n",
    "        return\n",
    "    \n",
    "    today = datetime.now().date()  # Lấy ngày hiện tại\n",
    "    nearest = None                 # Ngày lễ gần nhất\n",
    "    min_diff = float('inf')       # Khoảng cách nhỏ nhất (ban đầu là vô cực)\n",
    "    \n",
    "    # Duyệt qua tất cả ngày lễ\n",
    "    for holiday in holidays:\n",
    "        # Chuyển string thành date object\n",
    "        holiday_date = datetime.strptime(holiday['date'], '%Y-%m-%d').date()\n",
    "        \n",
    "        # Tính khoảng cách\n",
    "        if holiday_date >= today:\n",
    "            # Ngày lễ chưa qua\n",
    "            diff = (holiday_date - today).days\n",
    "        else:\n",
    "            # Ngày lễ đã qua, tính cho năm sau\n",
    "            next_year_date = holiday_date.replace(year=today.year + 1)\n",
    "            diff = (next_year_date - today).days\n",
    "        \n",
    "        # Cập nhật ngày lễ gần nhất\n",
    "        if diff < min_diff:\n",
    "            min_diff = diff\n",
    "            nearest = holiday\n",
    "    \n",
    "    # Thông báo kết quả\n",
    "    if nearest:\n",
    "        holiday_date = datetime.strptime(nearest['date'], '%Y-%m-%d').date()\n",
    "        if holiday_date >= today:\n",
    "            date_str = holiday_date.strftime('%d.%m.%Y')\n",
    "            self.speak(f\"Ngày lễ gần nhất: {nearest['name']}, {date_str}\")\n",
    "        else:\n",
    "            next_year_date = holiday_date.replace(year=today.year + 1)\n",
    "            date_str = next_year_date.strftime('%d.%m.%Y')\n",
    "            self.speak(f\"Ngày lễ gần nhất: {nearest['name']}, {date_str} năm sau\")\n",
    "    else:\n",
    "        self.speak(\"Không tìm thấy ngày lễ gần nhất\")"
   ]
  },
  {
   "cell_type": "markdown",
   "id": "dc71f217",
   "metadata": {},
   "source": [
    "5.5 Đếm số lượng ngày lễ"
   ]
  },
  {
   "cell_type": "code",
   "execution_count": 6,
   "id": "2ba853d2",
   "metadata": {},
   "outputs": [],
   "source": [
    "def count_holidays(self):\n",
    "    \"\"\"Đếm tổng số ngày lễ\"\"\"\n",
    "    holidays = self.get_holidays()\n",
    "    count = len(holidays)  # Đếm số phần tử trong list\n",
    "    \n",
    "    if count > 0:\n",
    "        self.speak(f\"Quốc gia {self.country} năm {self.year} có {count} ngày lễ chính thức\")\n",
    "    else:\n",
    "        self.speak(\"Không tìm thấy ngày lễ nào\")"
   ]
  },
  {
   "cell_type": "markdown",
   "id": "523d50f7",
   "metadata": {},
   "source": [
    "5.6 Đổi quốc gia"
   ]
  },
  {
   "cell_type": "code",
   "execution_count": null,
   "id": "073952ec",
   "metadata": {},
   "outputs": [],
   "source": [
    "def change_country(self):\n",
    "    \"\"\"Thay đổi mã quốc gia\"\"\"\n",
    "    self.speak(\"Nhập mã quốc gia, ví dụ: RU cho Nga, US cho Mỹ, GB cho Anh\")\n",
    "    \n",
    "    # Nhập từ bàn phím (đơn giản hóa thay vì dùng giọng nói)\n",
    "    new_country = input(\"Nhập mã quốc gia: \").upper().strip()\n",
    "    \n",
    "    # Kiểm tra định dạng (mã quốc gia là 2 ký tự)\n",
    "    if len(new_country) == 2:\n",
    "        old_country = self.country\n",
    "        self.country = new_country\n",
    "        self.speak(f\"Đã đổi từ {old_country} sang {self.country}\")\n",
    "    else:\n",
    "        self.speak(\"Mã quốc gia không hợp lệ\")"
   ]
  },
  {
   "cell_type": "markdown",
   "id": "b52b5a18",
   "metadata": {},
   "source": [
    "5.7 Đổi năm"
   ]
  },
  {
   "cell_type": "code",
   "execution_count": null,
   "id": "84555f67",
   "metadata": {},
   "outputs": [],
   "source": [
    "def change_year(self):\n",
    "    \"\"\"Thay đổi năm tìm kiếm\"\"\"\n",
    "    self.speak(\"Nhập năm cần tìm\")\n",
    "    \n",
    "    try:\n",
    "        # Nhập và chuyển thành số nguyên\n",
    "        new_year = int(input(\"Nhập năm: \").strip())\n",
    "        \n",
    "        # Kiểm tra phạm vi hợp lệ\n",
    "        if 2000 <= new_year <= 2030:\n",
    "            old_year = self.year\n",
    "            self.year = new_year\n",
    "            self.speak(f\"Đã đổi từ năm {old_year} sang {self.year}\")\n",
    "        else:\n",
    "            self.speak(\"Năm phải trong khoảng 2000-2030\")\n",
    "    except ValueError:\n",
    "        self.speak(\"Định dạng năm không đúng\")"
   ]
  },
  {
   "cell_type": "markdown",
   "id": "bc0a0e99",
   "metadata": {},
   "source": [
    "# 6. Xử lý lệnh chính"
   ]
  },
  {
   "cell_type": "markdown",
   "id": "8d5687cb",
   "metadata": {},
   "source": [
    "6.1 Phân tích lệnh"
   ]
  },
  {
   "cell_type": "code",
   "execution_count": null,
   "id": "5997dc92",
   "metadata": {},
   "outputs": [],
   "source": [
    "def process_command(self, text):\n",
    "    \"\"\"Xử lý lệnh được nhận diện\"\"\"\n",
    "    text = text.lower().strip()  # Chuyển thành chữ thường và loại bỏ khoảng trắng\n",
    "    \n",
    "    # Tìm lệnh trong văn bản\n",
    "    recognized_command = None\n",
    "    for command in self.commands:\n",
    "        if command in text:  # Kiểm tra xem lệnh có xuất hiện trong text không\n",
    "            recognized_command = command\n",
    "            break\n",
    "    \n",
    "    # Thực thi lệnh\n",
    "    if recognized_command:\n",
    "        print(f\"Nhận diện lệnh: {recognized_command}\")\n",
    "        try:\n",
    "            # Gọi hàm xử lý tương ứng\n",
    "            self.commands[recognized_command]()\n",
    "        except Exception as e:\n",
    "            print(f\"Lỗi khi thực thi: {e}\")\n",
    "            self.speak(\"Có lỗi khi thực hiện lệnh\")\n",
    "    else:\n",
    "        print(f\"Không nhận diện được lệnh: '{text}'\")\n",
    "        self.speak(\"Không hiểu lệnh. Nói 'помощь' để xem danh sách lệnh\")"
   ]
  },
  {
   "cell_type": "markdown",
   "id": "c003fbfa",
   "metadata": {},
   "source": [
    "6.2 Vòng lặp chính"
   ]
  },
  {
   "cell_type": "code",
   "execution_count": 7,
   "id": "82f40ae2",
   "metadata": {},
   "outputs": [],
   "source": [
    "def run(self):\n",
    "    \"\"\"Vòng lặp chính của chương trình\"\"\"\n",
    "    self.show_help()  # Hiển thị hướng dẫn ban đầu\n",
    "    \n",
    "    try:\n",
    "        while True:  # Vòng lặp vô tận\n",
    "            # Hiển thị trạng thái hiện tại\n",
    "            print(f\"\\nCấu hình: quốc gia={self.country}, năm={self.year}\")\n",
    "            print(\"Nhấn Enter để bắt đầu ghi âm...\")\n",
    "            input()  # Chờ người dùng nhấn Enter\n",
    "            \n",
    "            # Cho phép nhập bằng text để test\n",
    "            print(\"Hoặc nhập lệnh bằng văn bản:\")\n",
    "            text_input = input(\"Lệnh: \").strip()\n",
    "            \n",
    "            if text_input:\n",
    "                # Xử lý lệnh văn bản\n",
    "                self.process_command(text_input)\n",
    "            else:\n",
    "                # Xử lý lệnh giọng nói\n",
    "                recognized_text = self.listen()\n",
    "                \n",
    "                if recognized_text:\n",
    "                    print(f\"Nhận diện: {recognized_text}\")\n",
    "                    self.process_command(recognized_text)\n",
    "                else:\n",
    "                    self.speak(\"Không nhận diện được lệnh\")\n",
    "    \n",
    "    except KeyboardInterrupt:\n",
    "        # Xử lý khi người dùng nhấn Ctrl+C\n",
    "        print(\"\\nChương trình bị dừng bởi người dùng\")\n",
    "        self.speak(\"Chương trình kết thúc\")\n",
    "    except Exception as e:\n",
    "        # Xử lý lỗi nghiêm trọng\n",
    "        print(f\"Lỗi nghiêm trọng: {e}\")\n",
    "        self.speak(\"Có lỗi nghiêm trọng xảy ra\")\n",
    "    finally:\n",
    "        # Dọn dẹp tài nguyên\n",
    "        if self.stream:\n",
    "            self.stream.close()\n",
    "        self.audio.terminate()"
   ]
  },
  {
   "cell_type": "markdown",
   "id": "7d6e21ac",
   "metadata": {},
   "source": [
    "# 7. Hàm main"
   ]
  },
  {
   "cell_type": "code",
   "execution_count": 8,
   "id": "8951a354",
   "metadata": {},
   "outputs": [
    {
     "name": "stdout",
     "output_type": "stream",
     "text": [
      "Khởi động trợ lý giọng nói...\n",
      "Đảm bảo đã cài đặt các thư viện cần thiết:\n",
      "pip install requests pyttsx3 pyaudio vosk\n",
      "Và tải model Vosk tiếng Nga\n",
      "\n",
      "Lỗi khởi động: name 'VoiceAssistant' is not defined\n"
     ]
    }
   ],
   "source": [
    "def main():\n",
    "    \"\"\"Hàm chính khởi động chương trình\"\"\"\n",
    "    print(\"Khởi động trợ lý giọng nói...\")\n",
    "    print(\"Đảm bảo đã cài đặt các thư viện cần thiết:\")\n",
    "    print(\"pip install requests pyttsx3 pyaudio vosk\")\n",
    "    print(\"Và tải model Vosk tiếng Nga\\n\")\n",
    "    \n",
    "    try:\n",
    "        assistant = VoiceAssistant()  # Tạo instance\n",
    "        assistant.run()              # Chạy chương trình\n",
    "    except Exception as e:\n",
    "        print(f\"Lỗi khởi động: {e}\")\n",
    "\n",
    "if __name__ == \"__main__\":\n",
    "    main()  # Chạy khi file được thực thi trực tiếp"
   ]
  },
  {
   "cell_type": "markdown",
   "id": "462c3715",
   "metadata": {},
   "source": [
    "# Tóm tắt luồng hoạt động\n",
    "\n",
    "1. **Khởi tạo**: Thiết lập TTS, STT, microphone, API config  \n",
    "2. **Vòng lặp chính**:\n",
    "   - Chờ người dùng  \n",
    "   - Ghi âm hoặc nhập text  \n",
    "   - Nhận diện lệnh  \n",
    "   - Thực thi lệnh tương ứng  \n",
    "   - Trả về kết quả  \n",
    "3. **Xử lý lỗi**: Báo lỗi rõ ràng cho từng trường hợp  \n",
    "4. **Dọn dẹp**: Giải phóng tài nguyên khi kết thúc  \n",
    "\n",
    "# Ưu điểm của thiết kế\n",
    "\n",
    "- **Modular**: Mỗi chức năng là một hàm riêng biệt  \n",
    "- **Cache**: Tối ưu hóa việc gọi API  \n",
    "- **Error handling**: Xử lý lỗi toàn diện  \n",
    "- **Flexible input**: Hỗ trợ cả giọng nói và text  \n",
    "- **Extensible**: Dễ dàng thêm lệnh mới  \n",
    "\n"
   ]
  }
 ],
 "metadata": {
  "kernelspec": {
   "display_name": "Python 3",
   "language": "python",
   "name": "python3"
  },
  "language_info": {
   "codemirror_mode": {
    "name": "ipython",
    "version": 3
   },
   "file_extension": ".py",
   "mimetype": "text/x-python",
   "name": "python",
   "nbconvert_exporter": "python",
   "pygments_lexer": "ipython3",
   "version": "3.12.6"
  }
 },
 "nbformat": 4,
 "nbformat_minor": 5
}
